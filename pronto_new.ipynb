{
 "cells": [
  {
   "cell_type": "code",
   "execution_count": 2,
   "metadata": {
    "ExecuteTime": {
     "end_time": "2021-11-12T16:00:30.274946Z",
     "start_time": "2021-11-12T16:00:29.669969Z"
    }
   },
   "outputs": [
    {
     "name": "stdout",
     "output_type": "stream",
     "text": [
      "The autoreload extension is already loaded. To reload it, use:\n",
      "  %reload_ext autoreload\n"
     ]
    }
   ],
   "source": [
    "from core_lib.core import *\n",
    "from core_lib.template_config import*\n",
    "from IPython.display import Video\n",
    "%load_ext autoreload\n",
    "%autoreload 2\n",
    "%reload_ext autoreload"
   ]
  },
  {
   "cell_type": "code",
   "execution_count": 3,
   "metadata": {
    "ExecuteTime": {
     "end_time": "2021-11-12T16:00:30.298274Z",
     "start_time": "2021-11-12T16:00:30.276053Z"
    }
   },
   "outputs": [],
   "source": [
    "texts=['Building your dream home', 'with luxury interior', 'intricate details',\n",
    "       'high quality materials', 'good stuff', 'nice vibes']\n",
    "\n",
    "# this will have the paths to the clips to be used. The total number of clips would be sum of the clips per block in a template.\n",
    "data_path = Path('/home/hamza/dev/pronto/bfiles_2/stock_footage/industries/home_improvement')\n",
    "pronto_paths = sorted_paths(data_path)\n",
    "logo_path = '/home/hamza/dev/pronto/tokyo-olympics.jpg'"
   ]
  },
  {
   "cell_type": "code",
   "execution_count": 6,
   "metadata": {},
   "outputs": [
    {
     "name": "stderr",
     "output_type": "stream",
     "text": [
      "Exception ignored in: <function FFMPEG_VideoReader.__del__ at 0x7f79d1d0cdc0>\n",
      "Traceback (most recent call last):\n",
      "  File \"/home/hamza/anaconda3/envs/dreamai/lib/python3.8/site-packages/moviepy/video/io/ffmpeg_reader.py\", line 199, in __del__\n",
      "    self.close()\n",
      "  File \"/home/hamza/anaconda3/envs/dreamai/lib/python3.8/site-packages/moviepy/video/io/ffmpeg_reader.py\", line 189, in close\n",
      "    if self.proc:\n",
      "AttributeError: 'FFMPEG_VideoReader' object has no attribute 'proc'\n",
      "Exception ignored in: <function FFMPEG_VideoReader.__del__ at 0x7f79d1d0cdc0>\n",
      "Traceback (most recent call last):\n",
      "  File \"/home/hamza/anaconda3/envs/dreamai/lib/python3.8/site-packages/moviepy/video/io/ffmpeg_reader.py\", line 199, in __del__\n",
      "    self.close()\n",
      "  File \"/home/hamza/anaconda3/envs/dreamai/lib/python3.8/site-packages/moviepy/video/io/ffmpeg_reader.py\", line 189, in close\n",
      "    if self.proc:\n",
      "AttributeError: 'FFMPEG_VideoReader' object has no attribute 'proc'\n",
      "Exception ignored in: <function FFMPEG_VideoReader.__del__ at 0x7f79d1d0cdc0>\n",
      "Traceback (most recent call last):\n",
      "  File \"/home/hamza/anaconda3/envs/dreamai/lib/python3.8/site-packages/moviepy/video/io/ffmpeg_reader.py\", line 199, in __del__\n",
      "    self.close()\n",
      "  File \"/home/hamza/anaconda3/envs/dreamai/lib/python3.8/site-packages/moviepy/video/io/ffmpeg_reader.py\", line 189, in close\n",
      "    if self.proc:\n",
      "AttributeError: 'FFMPEG_VideoReader' object has no attribute 'proc'\n",
      "Exception ignored in: <function FFMPEG_VideoReader.__del__ at 0x7f79d1d0cdc0>\n",
      "Traceback (most recent call last):\n",
      "  File \"/home/hamza/anaconda3/envs/dreamai/lib/python3.8/site-packages/moviepy/video/io/ffmpeg_reader.py\", line 199, in __del__\n",
      "    self.close()\n",
      "  File \"/home/hamza/anaconda3/envs/dreamai/lib/python3.8/site-packages/moviepy/video/io/ffmpeg_reader.py\", line 189, in close\n",
      "    if self.proc:\n",
      "AttributeError: 'FFMPEG_VideoReader' object has no attribute 'proc'\n",
      "Exception ignored in: <function FFMPEG_VideoReader.__del__ at 0x7f79d1d0cdc0>\n",
      "Traceback (most recent call last):\n",
      "  File \"/home/hamza/anaconda3/envs/dreamai/lib/python3.8/site-packages/moviepy/video/io/ffmpeg_reader.py\", line 199, in __del__\n",
      "    self.close()\n",
      "  File \"/home/hamza/anaconda3/envs/dreamai/lib/python3.8/site-packages/moviepy/video/io/ffmpeg_reader.py\", line 189, in close\n",
      "    if self.proc:\n",
      "AttributeError: 'FFMPEG_VideoReader' object has no attribute 'proc'\n",
      "Exception ignored in: <function FFMPEG_VideoReader.__del__ at 0x7f79d1d0cdc0>\n",
      "Traceback (most recent call last):\n",
      "  File \"/home/hamza/anaconda3/envs/dreamai/lib/python3.8/site-packages/moviepy/video/io/ffmpeg_reader.py\", line 199, in __del__\n",
      "    self.close()\n",
      "  File \"/home/hamza/anaconda3/envs/dreamai/lib/python3.8/site-packages/moviepy/video/io/ffmpeg_reader.py\", line 189, in close\n",
      "    if self.proc:\n",
      "AttributeError: 'FFMPEG_VideoReader' object has no attribute 'proc'\n",
      "Exception ignored in: <function FFMPEG_VideoReader.__del__ at 0x7f79d1d0cdc0>\n",
      "Traceback (most recent call last):\n",
      "  File \"/home/hamza/anaconda3/envs/dreamai/lib/python3.8/site-packages/moviepy/video/io/ffmpeg_reader.py\", line 199, in __del__\n",
      "    self.close()\n",
      "  File \"/home/hamza/anaconda3/envs/dreamai/lib/python3.8/site-packages/moviepy/video/io/ffmpeg_reader.py\", line 189, in close\n",
      "    if self.proc:\n",
      "AttributeError: 'FFMPEG_VideoReader' object has no attribute 'proc'\n",
      "Exception ignored in: <function FFMPEG_VideoReader.__del__ at 0x7f79d1d0cdc0>\n",
      "Traceback (most recent call last):\n",
      "  File \"/home/hamza/anaconda3/envs/dreamai/lib/python3.8/site-packages/moviepy/video/io/ffmpeg_reader.py\", line 199, in __del__\n",
      "    self.close()\n",
      "  File \"/home/hamza/anaconda3/envs/dreamai/lib/python3.8/site-packages/moviepy/video/io/ffmpeg_reader.py\", line 189, in close\n",
      "    if self.proc:\n",
      "AttributeError: 'FFMPEG_VideoReader' object has no attribute 'proc'\n",
      "Exception ignored in: <function FFMPEG_VideoReader.__del__ at 0x7f79d1d0cdc0>\n",
      "Traceback (most recent call last):\n",
      "  File \"/home/hamza/anaconda3/envs/dreamai/lib/python3.8/site-packages/moviepy/video/io/ffmpeg_reader.py\", line 199, in __del__\n",
      "    self.close()\n",
      "  File \"/home/hamza/anaconda3/envs/dreamai/lib/python3.8/site-packages/moviepy/video/io/ffmpeg_reader.py\", line 189, in close\n",
      "    if self.proc:\n",
      "AttributeError: 'FFMPEG_VideoReader' object has no attribute 'proc'\n",
      "Exception ignored in: <function FFMPEG_VideoReader.__del__ at 0x7f79d1d0cdc0>\n",
      "Traceback (most recent call last):\n",
      "  File \"/home/hamza/anaconda3/envs/dreamai/lib/python3.8/site-packages/moviepy/video/io/ffmpeg_reader.py\", line 199, in __del__\n",
      "    self.close()\n",
      "  File \"/home/hamza/anaconda3/envs/dreamai/lib/python3.8/site-packages/moviepy/video/io/ffmpeg_reader.py\", line 189, in close\n",
      "    if self.proc:\n",
      "AttributeError: 'FFMPEG_VideoReader' object has no attribute 'proc'\n"
     ]
    },
    {
     "name": "stdout",
     "output_type": "stream",
     "text": [
      "458-540/3-50\n",
      "FWD POS: fwd_posy-540//3-50 to 228\n"
     ]
    }
   ],
   "source": [
    "template = 'Candid1'\n",
    "duration = 60\n",
    "\n",
    "# v is the final ProntoClip created.\n",
    "# temp_blocks is the list of blocks used to create the video. The same list defined in the template_config.\n",
    "# You can ignore temp_blocks for now. We'll discuss it later.\n",
    "\n",
    "v, temp_blocks = create_video(template=template, vh=540, vw=960, duration=duration, clip_paths=pronto_paths,\n",
    "                              logo=logo_path, vo_file='', vo_files=[], music_file='',\n",
    "                              music_files=[], texts=texts, logger=None)"
   ]
  },
  {
   "cell_type": "code",
   "execution_count": 7,
   "metadata": {
    "ExecuteTime": {
     "end_time": "2021-11-12T16:00:36.629782Z",
     "start_time": "2021-11-12T16:00:36.615373Z"
    }
   },
   "outputs": [
    {
     "data": {
      "text/html": [
       "<video src=\"test_Candid1.mp4\" controls  >\n",
       "      Your browser does not support the <code>video</code> element.\n",
       "    </video>"
      ],
      "text/plain": [
       "<IPython.core.display.Video object>"
      ]
     },
     "execution_count": 7,
     "metadata": {},
     "output_type": "execute_result"
    }
   ],
   "source": [
    "# if using vscode notebook:\n",
    "# because vscode can't play video using moviepy's player which requires html.\n",
    "\n",
    "name = f'test_{template}'\n",
    "save_video(v, f'{name}.mp4')\n",
    "Video(f'{name}.mp4')"
   ]
  },
  {
   "cell_type": "code",
   "execution_count": null,
   "metadata": {},
   "outputs": [],
   "source": [
    "# if using jupyter notebook in browser:\n",
    "\n",
    "play_video(v)"
   ]
  },
  {
   "cell_type": "code",
   "execution_count": null,
   "metadata": {},
   "outputs": [],
   "source": []
  }
 ],
 "metadata": {
  "celltoolbar": "Initialization Cell",
  "interpreter": {
   "hash": "d3b133fcd7a0ac5a654cb1b22d4cf8efe5420ce11da5d9f455ca7bb1c5408454"
  },
  "kernelspec": {
   "display_name": "Python 3 (ipykernel)",
   "language": "python",
   "name": "python3"
  },
  "language_info": {
   "codemirror_mode": {
    "name": "ipython",
    "version": 3
   },
   "file_extension": ".py",
   "mimetype": "text/x-python",
   "name": "python",
   "nbconvert_exporter": "python",
   "pygments_lexer": "ipython3",
   "version": "3.8.10"
  }
 },
 "nbformat": 4,
 "nbformat_minor": 4
}
